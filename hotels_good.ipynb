{
  "nbformat": 4,
  "nbformat_minor": 0,
  "metadata": {
    "colab": {
      "name": "hotels1.ipynb",
      "provenance": [],
      "collapsed_sections": []
    },
    "kernelspec": {
      "display_name": "Python 3",
      "name": "python3"
    },
    "language_info": {
      "name": "python"
    }
  },
  "cells": [
    {
      "cell_type": "code",
      "metadata": {
        "id": "0zNPoPb6nomg"
      },
      "source": [
        "import requests\n",
        "from bs4 import BeautifulSoup as soup"
      ],
      "execution_count": null,
      "outputs": []
    },
    {
      "cell_type": "code",
      "metadata": {
        "id": "FK17SEvzES75"
      },
      "source": [
        "html = requests.get('https://www.tripadvisor.in/Hotels-g303942-oa150-Can_Tho_Mekong_Delta-Hotels.html')#8"
      ],
      "execution_count": null,
      "outputs": []
    },
    {
      "cell_type": "code",
      "metadata": {
        "id": "vwzBhgxVob53"
      },
      "source": [
        "bsobj = soup(html.content,'lxml')"
      ],
      "execution_count": null,
      "outputs": []
    },
    {
      "cell_type": "code",
      "metadata": {
        "id": "wy7bDXIVoJyo"
      },
      "source": [
        "hotel = []\n",
        "for name in bsobj.findAll('div',{'class':'listing_title'}):\n",
        "  hotel.append(name.text.strip())"
      ],
      "execution_count": null,
      "outputs": []
    },
    {
      "cell_type": "code",
      "metadata": {
        "colab": {
          "base_uri": "https://localhost:8080/"
        },
        "id": "Qqi7buUjom0k",
        "outputId": "40a90b24-feb1-495b-cae3-99d31ad740bb"
      },
      "source": [
        "hotel"
      ],
      "execution_count": null,
      "outputs": [
        {
          "output_type": "execute_result",
          "data": {
            "text/plain": [
              "[]"
            ]
          },
          "metadata": {},
          "execution_count": 10
        }
      ]
    },
    {
      "cell_type": "code",
      "metadata": {
        "id": "Zf61ADKWYgJJ"
      },
      "source": [
        "ratings_text = []\n",
        "for rating_t in bsobj.findAll('div',{'class':'popindex'}):\n",
        "  ratings_text.append(rating_t.text.strip())"
      ],
      "execution_count": null,
      "outputs": []
    },
    {
      "cell_type": "code",
      "metadata": {
        "id": "VCAY9M98bLo9"
      },
      "source": [
        "ratings_text"
      ],
      "execution_count": null,
      "outputs": []
    },
    {
      "cell_type": "code",
      "metadata": {
        "id": "TprBJ6g0o0BS"
      },
      "source": [
        "ratings = []\n",
        "for rating in bsobj.findAll('a',{'class':'ui_bubble_rating'}):\n",
        "  ratings.append(rating['alt'])"
      ],
      "execution_count": null,
      "outputs": []
    },
    {
      "cell_type": "code",
      "metadata": {
        "id": "cDhYkygbo2-p"
      },
      "source": [
        "ratings"
      ],
      "execution_count": null,
      "outputs": []
    },
    {
      "cell_type": "code",
      "metadata": {
        "id": "0i3L96eKo5PY"
      },
      "source": [
        "reviews = []\n",
        "for review in bsobj.findAll('a',{'class':'review_count'}):\n",
        "  reviews.append(review.text.strip())"
      ],
      "execution_count": null,
      "outputs": []
    },
    {
      "cell_type": "code",
      "metadata": {
        "id": "VViJeEqXo7-8"
      },
      "source": [
        "reviews"
      ],
      "execution_count": null,
      "outputs": []
    },
    {
      "cell_type": "code",
      "metadata": {
        "id": "a9vliqz2o-Py"
      },
      "source": [
        "price = []\n",
        "\n",
        "for p in bsobj.findAll('div',{'class':'price-wrap'}):\n",
        "  price.append(p.text.replace('₹','').strip()) \n",
        "price[:5]"
      ],
      "execution_count": null,
      "outputs": []
    },
    {
      "cell_type": "code",
      "metadata": {
        "id": "2I-QR3GHCoh5"
      },
      "source": [
        "print(len(hotel))\n",
        "print(len(ratings_text))\n",
        "print(len(ratings))\n",
        "print(len(reviews))\n",
        "print(len(price))"
      ],
      "execution_count": null,
      "outputs": []
    },
    {
      "cell_type": "code",
      "metadata": {
        "colab": {
          "base_uri": "https://localhost:8080/",
          "height": 973
        },
        "id": "ka1bD63zp_tu",
        "outputId": "3137dfd0-3458-4e06-a63f-958278aee48c"
      },
      "source": [
        "import pandas as pd\n",
        "#d1 = {'Hotel':hotel,'Ratings_text':ratings_text,'Ratings':ratings,'No_of_Reviews':reviews,'Price':price}\n",
        "d1 = {'Hotel':hotel,'Ratings_text':ratings_text,'No_of_Reviews':reviews,'Price':price}\n",
        "df = pd.DataFrame.from_dict(d1)\n",
        "df"
      ],
      "execution_count": null,
      "outputs": [
        {
          "data": {
            "text/html": [
              "<div>\n",
              "<style scoped>\n",
              "    .dataframe tbody tr th:only-of-type {\n",
              "        vertical-align: middle;\n",
              "    }\n",
              "\n",
              "    .dataframe tbody tr th {\n",
              "        vertical-align: top;\n",
              "    }\n",
              "\n",
              "    .dataframe thead th {\n",
              "        text-align: right;\n",
              "    }\n",
              "</style>\n",
              "<table border=\"1\" class=\"dataframe\">\n",
              "  <thead>\n",
              "    <tr style=\"text-align: right;\">\n",
              "      <th></th>\n",
              "      <th>Hotel</th>\n",
              "      <th>Ratings_text</th>\n",
              "      <th>No_of_Reviews</th>\n",
              "      <th>Price</th>\n",
              "    </tr>\n",
              "  </thead>\n",
              "  <tbody>\n",
              "    <tr>\n",
              "      <th>0</th>\n",
              "      <td>Hotel 139</td>\n",
              "      <td>#241 Best Value of 500 places to stay in Can Tho</td>\n",
              "      <td>0 reviews</td>\n",
              "      <td></td>\n",
              "    </tr>\n",
              "    <tr>\n",
              "      <th>1</th>\n",
              "      <td>Kieu Hanh Hostel 4</td>\n",
              "      <td>#242 Best Value of 500 places to stay in Can Tho</td>\n",
              "      <td>0 reviews</td>\n",
              "      <td></td>\n",
              "    </tr>\n",
              "    <tr>\n",
              "      <th>2</th>\n",
              "      <td>Chang's Hostel</td>\n",
              "      <td>#243 Best Value of 500 places to stay in Can Tho</td>\n",
              "      <td>0 reviews</td>\n",
              "      <td></td>\n",
              "    </tr>\n",
              "    <tr>\n",
              "      <th>3</th>\n",
              "      <td>Apple Hotel</td>\n",
              "      <td>#244 Best Value of 500 places to stay in Can Tho</td>\n",
              "      <td>0 reviews</td>\n",
              "      <td></td>\n",
              "    </tr>\n",
              "    <tr>\n",
              "      <th>4</th>\n",
              "      <td>Lion Hotel</td>\n",
              "      <td>#245 Best Value of 500 places to stay in Can Tho</td>\n",
              "      <td>0 reviews</td>\n",
              "      <td></td>\n",
              "    </tr>\n",
              "    <tr>\n",
              "      <th>5</th>\n",
              "      <td>Thanh Tung Hotel</td>\n",
              "      <td>#246 Best Value of 500 places to stay in Can Tho</td>\n",
              "      <td>0 reviews</td>\n",
              "      <td></td>\n",
              "    </tr>\n",
              "    <tr>\n",
              "      <th>6</th>\n",
              "      <td>Huynh Thon Guesthouse</td>\n",
              "      <td>#247 Best Value of 500 places to stay in Can Tho</td>\n",
              "      <td>0 reviews</td>\n",
              "      <td></td>\n",
              "    </tr>\n",
              "    <tr>\n",
              "      <th>7</th>\n",
              "      <td>Rich Hotel</td>\n",
              "      <td>#248 Best Value of 500 places to stay in Can Tho</td>\n",
              "      <td>0 reviews</td>\n",
              "      <td></td>\n",
              "    </tr>\n",
              "    <tr>\n",
              "      <th>8</th>\n",
              "      <td>Mai Trinh I Hotel</td>\n",
              "      <td>#249 Best Value of 500 places to stay in Can Tho</td>\n",
              "      <td>0 reviews</td>\n",
              "      <td></td>\n",
              "    </tr>\n",
              "    <tr>\n",
              "      <th>9</th>\n",
              "      <td>Hanh Phuc Guesthouse</td>\n",
              "      <td>#250 Best Value of 500 places to stay in Can Tho</td>\n",
              "      <td>0 reviews</td>\n",
              "      <td></td>\n",
              "    </tr>\n",
              "    <tr>\n",
              "      <th>10</th>\n",
              "      <td>Azerai Can Tho</td>\n",
              "      <td>#251 Best Value of 500 places to stay in Can Tho</td>\n",
              "      <td>0 reviews</td>\n",
              "      <td></td>\n",
              "    </tr>\n",
              "    <tr>\n",
              "      <th>11</th>\n",
              "      <td>Motel RUBY</td>\n",
              "      <td>#252 Best Value of 500 places to stay in Can Tho</td>\n",
              "      <td>0 reviews</td>\n",
              "      <td></td>\n",
              "    </tr>\n",
              "    <tr>\n",
              "      <th>12</th>\n",
              "      <td>Homestay Ut 12</td>\n",
              "      <td>#253 Best Value of 500 places to stay in Can Tho</td>\n",
              "      <td>0 reviews</td>\n",
              "      <td></td>\n",
              "    </tr>\n",
              "    <tr>\n",
              "      <th>13</th>\n",
              "      <td>Kidu Homestay</td>\n",
              "      <td>#254 Best Value of 500 places to stay in Can Tho</td>\n",
              "      <td>0 reviews</td>\n",
              "      <td></td>\n",
              "    </tr>\n",
              "    <tr>\n",
              "      <th>14</th>\n",
              "      <td>Thien Son Hotel</td>\n",
              "      <td>#255 Best Value of 500 places to stay in Can Tho</td>\n",
              "      <td>0 reviews</td>\n",
              "      <td></td>\n",
              "    </tr>\n",
              "    <tr>\n",
              "      <th>15</th>\n",
              "      <td>Ngoc Huong Guest House</td>\n",
              "      <td>#256 Best Value of 500 places to stay in Can Tho</td>\n",
              "      <td>0 reviews</td>\n",
              "      <td></td>\n",
              "    </tr>\n",
              "    <tr>\n",
              "      <th>16</th>\n",
              "      <td>Mis Hostel Cần Tho</td>\n",
              "      <td>#257 Best Value of 500 places to stay in Can Tho</td>\n",
              "      <td>0 reviews</td>\n",
              "      <td></td>\n",
              "    </tr>\n",
              "    <tr>\n",
              "      <th>17</th>\n",
              "      <td>Lam Hoang Hotel</td>\n",
              "      <td>#258 Best Value of 500 places to stay in Can Tho</td>\n",
              "      <td>0 reviews</td>\n",
              "      <td></td>\n",
              "    </tr>\n",
              "    <tr>\n",
              "      <th>18</th>\n",
              "      <td>Hy House</td>\n",
              "      <td>#259 Best Value of 500 places to stay in Can Tho</td>\n",
              "      <td>0 reviews</td>\n",
              "      <td></td>\n",
              "    </tr>\n",
              "    <tr>\n",
              "      <th>19</th>\n",
              "      <td>Nha Nghi 7 Toi</td>\n",
              "      <td>#260 Best Value of 500 places to stay in Can Tho</td>\n",
              "      <td>0 reviews</td>\n",
              "      <td></td>\n",
              "    </tr>\n",
              "    <tr>\n",
              "      <th>20</th>\n",
              "      <td>Lai Nguyen Boutique Hotel</td>\n",
              "      <td>#261 Best Value of 500 places to stay in Can Tho</td>\n",
              "      <td>0 reviews</td>\n",
              "      <td></td>\n",
              "    </tr>\n",
              "    <tr>\n",
              "      <th>21</th>\n",
              "      <td>Ngoc Thuy Hotel</td>\n",
              "      <td>#262 Best Value of 500 places to stay in Can Tho</td>\n",
              "      <td>0 reviews</td>\n",
              "      <td></td>\n",
              "    </tr>\n",
              "    <tr>\n",
              "      <th>22</th>\n",
              "      <td>Hong Dao 2 Hotel</td>\n",
              "      <td>#263 Best Value of 500 places to stay in Can Tho</td>\n",
              "      <td>0 reviews</td>\n",
              "      <td></td>\n",
              "    </tr>\n",
              "    <tr>\n",
              "      <th>23</th>\n",
              "      <td>Dang Khoa Hotel</td>\n",
              "      <td>#264 Best Value of 500 places to stay in Can Tho</td>\n",
              "      <td>0 reviews</td>\n",
              "      <td></td>\n",
              "    </tr>\n",
              "    <tr>\n",
              "      <th>24</th>\n",
              "      <td>Bunny Home</td>\n",
              "      <td>#265 Best Value of 500 places to stay in Can Tho</td>\n",
              "      <td>0 reviews</td>\n",
              "      <td></td>\n",
              "    </tr>\n",
              "    <tr>\n",
              "      <th>25</th>\n",
              "      <td>Homestay Nha Toi</td>\n",
              "      <td>#266 Best Value of 500 places to stay in Can Tho</td>\n",
              "      <td>0 reviews</td>\n",
              "      <td></td>\n",
              "    </tr>\n",
              "    <tr>\n",
              "      <th>26</th>\n",
              "      <td>Osaka Hottel</td>\n",
              "      <td>#267 Best Value of 500 places to stay in Can Tho</td>\n",
              "      <td>0 reviews</td>\n",
              "      <td></td>\n",
              "    </tr>\n",
              "    <tr>\n",
              "      <th>27</th>\n",
              "      <td>HOTEL THIEN LOC PHAT</td>\n",
              "      <td>#268 Best Value of 500 places to stay in Can Tho</td>\n",
              "      <td>0 reviews</td>\n",
              "      <td></td>\n",
              "    </tr>\n",
              "    <tr>\n",
              "      <th>28</th>\n",
              "      <td>Karan Homestay - Hostel</td>\n",
              "      <td>#269 Best Value of 500 places to stay in Can Tho</td>\n",
              "      <td>0 reviews</td>\n",
              "      <td></td>\n",
              "    </tr>\n",
              "    <tr>\n",
              "      <th>29</th>\n",
              "      <td>Casa Inn Hostel &amp; Coffee</td>\n",
              "      <td>#270 Best Value of 500 places to stay in Can Tho</td>\n",
              "      <td>0 reviews</td>\n",
              "      <td></td>\n",
              "    </tr>\n",
              "  </tbody>\n",
              "</table>\n",
              "</div>"
            ],
            "text/plain": [
              "                        Hotel  ... Price\n",
              "0                   Hotel 139  ...      \n",
              "1          Kieu Hanh Hostel 4  ...      \n",
              "2              Chang's Hostel  ...      \n",
              "3                 Apple Hotel  ...      \n",
              "4                  Lion Hotel  ...      \n",
              "5            Thanh Tung Hotel  ...      \n",
              "6       Huynh Thon Guesthouse  ...      \n",
              "7                  Rich Hotel  ...      \n",
              "8           Mai Trinh I Hotel  ...      \n",
              "9        Hanh Phuc Guesthouse  ...      \n",
              "10             Azerai Can Tho  ...      \n",
              "11                 Motel RUBY  ...      \n",
              "12             Homestay Ut 12  ...      \n",
              "13              Kidu Homestay  ...      \n",
              "14            Thien Son Hotel  ...      \n",
              "15     Ngoc Huong Guest House  ...      \n",
              "16         Mis Hostel Cần Tho  ...      \n",
              "17            Lam Hoang Hotel  ...      \n",
              "18                   Hy House  ...      \n",
              "19             Nha Nghi 7 Toi  ...      \n",
              "20  Lai Nguyen Boutique Hotel  ...      \n",
              "21            Ngoc Thuy Hotel  ...      \n",
              "22           Hong Dao 2 Hotel  ...      \n",
              "23            Dang Khoa Hotel  ...      \n",
              "24                 Bunny Home  ...      \n",
              "25           Homestay Nha Toi  ...      \n",
              "26               Osaka Hottel  ...      \n",
              "27       HOTEL THIEN LOC PHAT  ...      \n",
              "28    Karan Homestay - Hostel  ...      \n",
              "29   Casa Inn Hostel & Coffee  ...      \n",
              "\n",
              "[30 rows x 4 columns]"
            ]
          },
          "execution_count": 36,
          "metadata": {},
          "output_type": "execute_result"
        }
      ]
    },
    {
      "cell_type": "code",
      "metadata": {
        "id": "LWkbzudacPgW"
      },
      "source": [
        "html = requests.get('https://www.tripadvisor.in/Hotels-g303942-oa120-Can_Tho_Mekong_Delta-Hotels.html')\n",
        "bsobj = soup(html.content,'lxml')\n",
        "\n",
        "hotel = []\n",
        "for name in bsobj.findAll('div',{'class':'listing_title'}):\n",
        "  hotel.append(name.text.strip())\n",
        "\n",
        "ratings_text = []\n",
        "for rating_t in bsobj.findAll('div',{'class':'popindex'}):\n",
        "  ratings_text.append(rating_t.text.strip())\n",
        "\n",
        "ratings = []\n",
        "for rating in bsobj.findAll('a',{'class':'ui_bubble_rating'}):\n",
        "  ratings.append(rating['alt'])\n",
        "\n",
        "reviews = []\n",
        "for review in bsobj.findAll('a',{'class':'review_count'}):\n",
        "  reviews.append(review.text.strip())\n",
        "\n",
        "price = []\n",
        "\n",
        "for p in bsobj.findAll('div',{'class':'price-wrap'}):\n",
        "  price.append(p.text.replace('₹','').strip()) \n",
        "price[:5]\n",
        "\n",
        "import pandas as pd\n",
        "d1 = {'Hotel':hotel,'Rating_t':rating_t,'Ratings':ratings,'No_of_Reviews':reviews,'Price':price}\n",
        "df = pd.DataFrame.from_dict(d1)\n",
        "\n",
        "df.to_csv('5.csv',encoding=\"utf-8-sig\",index=False)\n",
        "print(len(df))\n",
        "df"
      ],
      "execution_count": null,
      "outputs": []
    },
    {
      "cell_type": "code",
      "metadata": {
        "id": "ukowE9O-CHjP"
      },
      "source": [
        "import pandas as pd\n",
        "\n",
        "#d1=pd.read_csv('1.csv')\n",
        "#d2=pd.read_csv('2.csv')\n",
        "#d3=pd.read_csv('3.csv')\n",
        "#d4=pd.read_csv('4.csv')\n",
        "d5=pd.read_csv('5.csv')\n",
        "#d6=pd.read_csv('6.csv')\n",
        "#d7=pd.read_csv('7.csv')\n",
        "#d8=pd.read_csv('8.csv')\n",
        "d9=pd.read_csv('9.csv')\n",
        "#d10=pd.read_csv('10.csv')\n",
        "#d11=pd.read_csv('01.csv')\n",
        "#d12=pd.read_csv('0.csv')\n",
        "da = pd.read_csv('dataHotels.csv')"
      ],
      "execution_count": null,
      "outputs": []
    },
    {
      "cell_type": "code",
      "metadata": {
        "colab": {
          "base_uri": "https://localhost:8080/"
        },
        "id": "zrY2GMOTCJxI",
        "outputId": "3bfdd775-9ec7-43c4-c27f-e22162210c83"
      },
      "source": [
        "#print(len(d1))\n",
        "#print(len(d2))\n",
        "print(len(d5))\n",
        "print(len(d9))\n",
        "print(len(da))"
      ],
      "execution_count": null,
      "outputs": [
        {
          "output_type": "stream",
          "name": "stdout",
          "text": [
            "30\n",
            "30\n",
            "122\n"
          ]
        }
      ]
    },
    {
      "cell_type": "code",
      "metadata": {
        "colab": {
          "base_uri": "https://localhost:8080/",
          "height": 417
        },
        "id": "K1XIQTYJCLpi",
        "outputId": "59ddff1d-989c-4ded-9d64-11f527ea6f3e"
      },
      "source": [
        "data=pd.concat([d5,d9,da])\n",
        "data"
      ],
      "execution_count": null,
      "outputs": [
        {
          "output_type": "execute_result",
          "data": {
            "text/html": [
              "<div>\n",
              "<style scoped>\n",
              "    .dataframe tbody tr th:only-of-type {\n",
              "        vertical-align: middle;\n",
              "    }\n",
              "\n",
              "    .dataframe tbody tr th {\n",
              "        vertical-align: top;\n",
              "    }\n",
              "\n",
              "    .dataframe thead th {\n",
              "        text-align: right;\n",
              "    }\n",
              "</style>\n",
              "<table border=\"1\" class=\"dataframe\">\n",
              "  <thead>\n",
              "    <tr style=\"text-align: right;\">\n",
              "      <th></th>\n",
              "      <th>Hotel</th>\n",
              "      <th>No_of_Reviews</th>\n",
              "      <th>Price</th>\n",
              "      <th>Ratings_text</th>\n",
              "      <th>Rating_t</th>\n",
              "      <th>Ratings</th>\n",
              "    </tr>\n",
              "  </thead>\n",
              "  <tbody>\n",
              "    <tr>\n",
              "      <th>0</th>\n",
              "      <td>Dong Nam Hotel</td>\n",
              "      <td>5 reviews</td>\n",
              "      <td>NaN</td>\n",
              "      <td>NaN</td>\n",
              "      <td>NaN</td>\n",
              "      <td>NaN</td>\n",
              "    </tr>\n",
              "    <tr>\n",
              "      <th>1</th>\n",
              "      <td>Phu Uy Hotel</td>\n",
              "      <td>1 review</td>\n",
              "      <td>NaN</td>\n",
              "      <td>NaN</td>\n",
              "      <td>NaN</td>\n",
              "      <td>NaN</td>\n",
              "    </tr>\n",
              "    <tr>\n",
              "      <th>2</th>\n",
              "      <td>Cat Phuong Hotel</td>\n",
              "      <td>1 review</td>\n",
              "      <td>NaN</td>\n",
              "      <td>NaN</td>\n",
              "      <td>NaN</td>\n",
              "      <td>NaN</td>\n",
              "    </tr>\n",
              "    <tr>\n",
              "      <th>3</th>\n",
              "      <td>Can Tho Guesthouse</td>\n",
              "      <td>8 reviews</td>\n",
              "      <td>NaN</td>\n",
              "      <td>NaN</td>\n",
              "      <td>NaN</td>\n",
              "      <td>NaN</td>\n",
              "    </tr>\n",
              "    <tr>\n",
              "      <th>4</th>\n",
              "      <td>Truc Linh Hotel</td>\n",
              "      <td>1 review</td>\n",
              "      <td>NaN</td>\n",
              "      <td>NaN</td>\n",
              "      <td>NaN</td>\n",
              "      <td>NaN</td>\n",
              "    </tr>\n",
              "    <tr>\n",
              "      <th>...</th>\n",
              "      <td>...</td>\n",
              "      <td>...</td>\n",
              "      <td>...</td>\n",
              "      <td>...</td>\n",
              "      <td>...</td>\n",
              "      <td>...</td>\n",
              "    </tr>\n",
              "    <tr>\n",
              "      <th>117</th>\n",
              "      <td>Emerald Boutique Stay</td>\n",
              "      <td>1 review</td>\n",
              "      <td>NaN</td>\n",
              "      <td>NaN</td>\n",
              "      <td>#120 Best Value of 500 places to stay in Can Tho</td>\n",
              "      <td>3 of 5 bubbles</td>\n",
              "    </tr>\n",
              "    <tr>\n",
              "      <th>118</th>\n",
              "      <td>An's House</td>\n",
              "      <td>1 review</td>\n",
              "      <td>NaN</td>\n",
              "      <td>NaN</td>\n",
              "      <td>#120 Best Value of 500 places to stay in Can Tho</td>\n",
              "      <td>3 of 5 bubbles</td>\n",
              "    </tr>\n",
              "    <tr>\n",
              "      <th>119</th>\n",
              "      <td>Senior Hotel</td>\n",
              "      <td>1 review</td>\n",
              "      <td>NaN</td>\n",
              "      <td>NaN</td>\n",
              "      <td>#120 Best Value of 500 places to stay in Can Tho</td>\n",
              "      <td>3 of 5 bubbles</td>\n",
              "    </tr>\n",
              "    <tr>\n",
              "      <th>120</th>\n",
              "      <td>An Hotel Can Tho</td>\n",
              "      <td>1 review</td>\n",
              "      <td>NaN</td>\n",
              "      <td>NaN</td>\n",
              "      <td>#120 Best Value of 500 places to stay in Can Tho</td>\n",
              "      <td>3 of 5 bubbles</td>\n",
              "    </tr>\n",
              "    <tr>\n",
              "      <th>121</th>\n",
              "      <td>Mis Hostel</td>\n",
              "      <td>6 reviews</td>\n",
              "      <td>NaN</td>\n",
              "      <td>NaN</td>\n",
              "      <td>#120 Best Value of 500 places to stay in Can Tho</td>\n",
              "      <td>3 of 5 bubbles</td>\n",
              "    </tr>\n",
              "  </tbody>\n",
              "</table>\n",
              "<p>182 rows × 6 columns</p>\n",
              "</div>"
            ],
            "text/plain": [
              "                     Hotel  ...         Ratings\n",
              "0           Dong Nam Hotel  ...             NaN\n",
              "1             Phu Uy Hotel  ...             NaN\n",
              "2         Cat Phuong Hotel  ...             NaN\n",
              "3       Can Tho Guesthouse  ...             NaN\n",
              "4          Truc Linh Hotel  ...             NaN\n",
              "..                     ...  ...             ...\n",
              "117  Emerald Boutique Stay  ...  3 of 5 bubbles\n",
              "118             An's House  ...  3 of 5 bubbles\n",
              "119           Senior Hotel  ...  3 of 5 bubbles\n",
              "120       An Hotel Can Tho  ...  3 of 5 bubbles\n",
              "121             Mis Hostel  ...  3 of 5 bubbles\n",
              "\n",
              "[182 rows x 6 columns]"
            ]
          },
          "metadata": {},
          "execution_count": 4
        }
      ]
    },
    {
      "cell_type": "code",
      "metadata": {
        "id": "d_00QLooCp5i"
      },
      "source": [
        "data.to_csv('data_Hotels_C.csv',encoding=\"utf-8-sig\",index=False)"
      ],
      "execution_count": null,
      "outputs": []
    }
  ]
}