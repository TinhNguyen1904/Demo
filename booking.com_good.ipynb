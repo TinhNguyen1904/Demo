{
  "nbformat": 4,
  "nbformat_minor": 0,
  "metadata": {
    "colab": {
      "name": "booking.com.ipynb",
      "provenance": [],
      "collapsed_sections": []
    },
    "kernelspec": {
      "name": "python3",
      "display_name": "Python 3"
    },
    "language_info": {
      "name": "python"
    }
  },
  "cells": [
    {
      "cell_type": "code",
      "metadata": {
        "colab": {
          "base_uri": "https://localhost:8080/"
        },
        "id": "uBhIewuR6vUH",
        "outputId": "0ad3df8d-2084-4153-cad7-7a9161879dc0"
      },
      "source": [
        "!pip install selectorlib"
      ],
      "execution_count": null,
      "outputs": [
        {
          "output_type": "stream",
          "name": "stdout",
          "text": [
            "Collecting selectorlib\n",
            "  Downloading selectorlib-0.16.0-py2.py3-none-any.whl (5.8 kB)\n",
            "Requirement already satisfied: Click>=6.0 in /usr/local/lib/python3.7/dist-packages (from selectorlib) (7.1.2)\n",
            "Requirement already satisfied: pyyaml>=3.12 in /usr/local/lib/python3.7/dist-packages (from selectorlib) (3.13)\n",
            "Collecting parsel>=1.5.1\n",
            "  Downloading parsel-1.6.0-py2.py3-none-any.whl (13 kB)\n",
            "Collecting w3lib>=1.19.0\n",
            "  Downloading w3lib-1.22.0-py2.py3-none-any.whl (20 kB)\n",
            "Requirement already satisfied: six>=1.6.0 in /usr/local/lib/python3.7/dist-packages (from parsel>=1.5.1->selectorlib) (1.15.0)\n",
            "Requirement already satisfied: lxml in /usr/local/lib/python3.7/dist-packages (from parsel>=1.5.1->selectorlib) (4.2.6)\n",
            "Collecting cssselect>=0.9\n",
            "  Downloading cssselect-1.1.0-py2.py3-none-any.whl (16 kB)\n",
            "Installing collected packages: w3lib, cssselect, parsel, selectorlib\n",
            "Successfully installed cssselect-1.1.0 parsel-1.6.0 selectorlib-0.16.0 w3lib-1.22.0\n"
          ]
        }
      ]
    },
    {
      "cell_type": "code",
      "metadata": {
        "colab": {
          "base_uri": "https://localhost:8080/"
        },
        "id": "u90LFERi6sN9",
        "outputId": "605a0fe2-c575-42b7-a7b3-1f5d805f5d83"
      },
      "source": [
        "from selectorlib import Extractor\n",
        "import requests \n",
        "from time import sleep\n",
        "import csv\n",
        "\n",
        "# Create an Extractor by reading from the YAML file\n",
        "e = Extractor.from_yaml_file('booking.yml')\n",
        "\n",
        "def scrape(url):    \n",
        "    headers = {\n",
        "        'Connection': 'keep-alive',\n",
        "        'Pragma': 'no-cache',\n",
        "        'Cache-Control': 'no-cache',\n",
        "        'DNT': '1',\n",
        "        'Upgrade-Insecure-Requests': '1',\n",
        "        # You may want to change the user agent if you get blocked\n",
        "        'User-Agent': 'Mozilla/5.0 (Macintosh; Intel Mac OS X 10_15_4) AppleWebKit/537.36 (KHTML, like Gecko) Chrome/81.0.4044.113 Safari/537.36',\n",
        "        'Accept': 'text/html,application/xhtml+xml,application/xml;q=0.9,image/webp,image/apng,*/*;q=0.8,application/signed-exchange;v=b3;q=0.9',\n",
        "\n",
        "        'Referer': 'https://www.booking.com/index.en-gb.html',\n",
        "        'Accept-Language': 'en-GB,en-US;q=0.9,en;q=0.8',\n",
        "    }\n",
        "\n",
        "    # Download the page using requests\n",
        "    print(\"Downloading %s\"%url)\n",
        "    r = requests.get(url, headers=headers)\n",
        "    # Pass the HTML of the page and create \n",
        "    return e.extract(r.text,base_url=url)\n",
        "\n",
        "# product_data = []\n",
        "with open(\"urls5.txt\",'r') as urllist, open('5.csv','w') as outfile:\n",
        "    fieldnames = [\n",
        "        \"name\",\n",
        "        \"location\",\n",
        "        \"price\",\n",
        "        \"price_for\",\n",
        "        \"room_type\",\n",
        "        \"beds\",\n",
        "        \"rating\",\n",
        "        \"rating_title\",\n",
        "        \"number_of_ratings\",\n",
        "        \"url\"\n",
        "    ]\n",
        "    writer = csv.DictWriter(outfile, fieldnames=fieldnames,quoting=csv.QUOTE_ALL)\n",
        "    writer.writeheader()\n",
        "    for url in urllist.readlines():\n",
        "        data = scrape(url) \n",
        "        if data:\n",
        "            for h in data['hotels']:\n",
        "                writer.writerow(h)\n",
        "            # sleep(5)\n",
        "    "
      ],
      "execution_count": null,
      "outputs": [
        {
          "output_type": "stream",
          "name": "stdout",
          "text": [
            "Downloading https://www.booking.com/searchresults.en-gb.html?label=gen173nr-1DCAEoggI46AdIM1gEaKQCiAEBmAEJuAEHyAEM2AED6AEBiAIBqAIDuALCxJ31BcACAQ&sid=ec9619a70307de6d9fb3899bae0b9a15&tmpl=searchresults&checkin_month=9&checkin_monthday=21&checkin_year=2021&checkout_month=9&checkout_monthday=22&checkout_year=2021&city=-3709910&class_interval=1&dest_id=-3709910&dest_type=city&dtdisc=0&from_sf=1&group_adults=1&group_children=0&inac=0&index_postcard=0&label_click=undef&no_rooms=1&postcard=0&room1=A&sb_price_type=total&shw_aparth=1&slp_r_match=0&src=searchresults&src_elem=sb&srpvid=52e23272dc1c001a&ss=Can%20Tho&ss_all=0&ssb=empty&sshis=0&ssne=Can%20Tho&ssne_untouched=Can%20Tho&top_ufis=1&rows=25&offset=100\n"
          ]
        }
      ]
    },
    {
      "cell_type": "code",
      "metadata": {
        "colab": {
          "base_uri": "https://localhost:8080/",
          "height": 662
        },
        "id": "jOdvMzfV69fu",
        "outputId": "827f16b5-ea71-4552-a935-b646d5b59815"
      },
      "source": [
        "import pandas as pd\n",
        "\n",
        "data = pd.read_csv('5.csv')\n",
        "data"
      ],
      "execution_count": null,
      "outputs": [
        {
          "output_type": "execute_result",
          "data": {
            "text/html": [
              "<div>\n",
              "<style scoped>\n",
              "    .dataframe tbody tr th:only-of-type {\n",
              "        vertical-align: middle;\n",
              "    }\n",
              "\n",
              "    .dataframe tbody tr th {\n",
              "        vertical-align: top;\n",
              "    }\n",
              "\n",
              "    .dataframe thead th {\n",
              "        text-align: right;\n",
              "    }\n",
              "</style>\n",
              "<table border=\"1\" class=\"dataframe\">\n",
              "  <thead>\n",
              "    <tr style=\"text-align: right;\">\n",
              "      <th></th>\n",
              "      <th>name</th>\n",
              "      <th>location</th>\n",
              "      <th>price</th>\n",
              "      <th>price_for</th>\n",
              "      <th>room_type</th>\n",
              "      <th>beds</th>\n",
              "      <th>rating</th>\n",
              "      <th>rating_title</th>\n",
              "      <th>number_of_ratings</th>\n",
              "      <th>url</th>\n",
              "    </tr>\n",
              "  </thead>\n",
              "  <tbody>\n",
              "    <tr>\n",
              "      <th>0</th>\n",
              "      <td>D Homestay</td>\n",
              "      <td>Can Tho Show on map</td>\n",
              "      <td>US$10</td>\n",
              "      <td>1 night, 1 adult</td>\n",
              "      <td>Deluxe Queen Room with Two Queen Beds</td>\n",
              "      <td>2 large double beds</td>\n",
              "      <td>8.8</td>\n",
              "      <td>Fabulous</td>\n",
              "      <td>95 reviews</td>\n",
              "      <td>https://www.booking.com/hotel/vn/d-homestay.en...</td>\n",
              "    </tr>\n",
              "    <tr>\n",
              "      <th>1</th>\n",
              "      <td>N&amp;D Homestay</td>\n",
              "      <td>Can Tho Show on map</td>\n",
              "      <td>US$15</td>\n",
              "      <td>1 night, 1 adult</td>\n",
              "      <td>Double Room</td>\n",
              "      <td>1 large double bed</td>\n",
              "      <td>7.8</td>\n",
              "      <td>Good</td>\n",
              "      <td>14 reviews</td>\n",
              "      <td>https://www.booking.com/hotel/vn/n-amp-d-homes...</td>\n",
              "    </tr>\n",
              "    <tr>\n",
              "      <th>2</th>\n",
              "      <td>Number One Hotel</td>\n",
              "      <td>Can Tho Show on map</td>\n",
              "      <td>US$12</td>\n",
              "      <td>1 night, 1 adult</td>\n",
              "      <td>Double Room</td>\n",
              "      <td>1 double bed</td>\n",
              "      <td>6.4</td>\n",
              "      <td>Review score</td>\n",
              "      <td>164 reviews</td>\n",
              "      <td>https://www.booking.com/hotel/vn/khach-san-so-...</td>\n",
              "    </tr>\n",
              "    <tr>\n",
              "      <th>3</th>\n",
              "      <td>Ngoc Lam Can Tho Hotel</td>\n",
              "      <td>Can Tho Show on map</td>\n",
              "      <td>US$15</td>\n",
              "      <td>1 night, 1 adult</td>\n",
              "      <td>Standard Double Room</td>\n",
              "      <td>1 large double bed</td>\n",
              "      <td>7.6</td>\n",
              "      <td>Good</td>\n",
              "      <td>18 reviews</td>\n",
              "      <td>https://www.booking.com/hotel/vn/khach-san-ngo...</td>\n",
              "    </tr>\n",
              "    <tr>\n",
              "      <th>4</th>\n",
              "      <td>Bao Gia Trang Vien - The Green resort</td>\n",
              "      <td>Can Tho Show on map</td>\n",
              "      <td>US$38</td>\n",
              "      <td>1 night, 1 adult</td>\n",
              "      <td>King Room with Garden View</td>\n",
              "      <td>1 large double bed</td>\n",
              "      <td>7.1</td>\n",
              "      <td>Good</td>\n",
              "      <td>4 reviews</td>\n",
              "      <td>https://www.booking.com/hotel/vn/bao-gia-trang...</td>\n",
              "    </tr>\n",
              "    <tr>\n",
              "      <th>5</th>\n",
              "      <td>Khoa Phu Hotel</td>\n",
              "      <td>Can Tho Show on map</td>\n",
              "      <td>US$11</td>\n",
              "      <td>1 night, 1 adult</td>\n",
              "      <td>Double Room</td>\n",
              "      <td>1 large double bed</td>\n",
              "      <td>8.0</td>\n",
              "      <td>Very good</td>\n",
              "      <td>41 reviews</td>\n",
              "      <td>https://www.booking.com/hotel/vn/khoa-phu.en-g...</td>\n",
              "    </tr>\n",
              "    <tr>\n",
              "      <th>6</th>\n",
              "      <td>Hau Giang Hotel</td>\n",
              "      <td>Can Tho Show on map</td>\n",
              "      <td>US$34</td>\n",
              "      <td>1 night, 1 adult</td>\n",
              "      <td>Superior Double or Twin Room</td>\n",
              "      <td>Beds: 1 double or 2 singles</td>\n",
              "      <td>8.0</td>\n",
              "      <td>Very good</td>\n",
              "      <td>54 reviews</td>\n",
              "      <td>https://www.booking.com/hotel/vn/hau-giang.en-...</td>\n",
              "    </tr>\n",
              "    <tr>\n",
              "      <th>7</th>\n",
              "      <td>Hanh Phuc Hotel</td>\n",
              "      <td>Can Tho Show on map</td>\n",
              "      <td>US$29</td>\n",
              "      <td>1 night, 1 adult</td>\n",
              "      <td>Superior Room</td>\n",
              "      <td>2 beds\\n(1 single, 1 double)</td>\n",
              "      <td>6.3</td>\n",
              "      <td>Review score</td>\n",
              "      <td>13 reviews</td>\n",
              "      <td>https://www.booking.com/hotel/vn/hanh-phuc.en-...</td>\n",
              "    </tr>\n",
              "    <tr>\n",
              "      <th>8</th>\n",
              "      <td>Kim Long Hotel</td>\n",
              "      <td>Can Tho Show on map</td>\n",
              "      <td>US$16</td>\n",
              "      <td>1 night, 1 adult</td>\n",
              "      <td>Standard Double Room</td>\n",
              "      <td>1 large double bed</td>\n",
              "      <td>8.2</td>\n",
              "      <td>Very good</td>\n",
              "      <td>101 reviews</td>\n",
              "      <td>https://www.booking.com/hotel/vn/kim-long.en-g...</td>\n",
              "    </tr>\n",
              "  </tbody>\n",
              "</table>\n",
              "</div>"
            ],
            "text/plain": [
              "                                    name  ...                                                url\n",
              "0                             D Homestay  ...  https://www.booking.com/hotel/vn/d-homestay.en...\n",
              "1                           N&D Homestay  ...  https://www.booking.com/hotel/vn/n-amp-d-homes...\n",
              "2                       Number One Hotel  ...  https://www.booking.com/hotel/vn/khach-san-so-...\n",
              "3                 Ngoc Lam Can Tho Hotel  ...  https://www.booking.com/hotel/vn/khach-san-ngo...\n",
              "4  Bao Gia Trang Vien - The Green resort  ...  https://www.booking.com/hotel/vn/bao-gia-trang...\n",
              "5                         Khoa Phu Hotel  ...  https://www.booking.com/hotel/vn/khoa-phu.en-g...\n",
              "6                        Hau Giang Hotel  ...  https://www.booking.com/hotel/vn/hau-giang.en-...\n",
              "7                        Hanh Phuc Hotel  ...  https://www.booking.com/hotel/vn/hanh-phuc.en-...\n",
              "8                         Kim Long Hotel  ...  https://www.booking.com/hotel/vn/kim-long.en-g...\n",
              "\n",
              "[9 rows x 10 columns]"
            ]
          },
          "metadata": {},
          "execution_count": 14
        }
      ]
    },
    {
      "cell_type": "code",
      "metadata": {
        "id": "JeS17sH9oris"
      },
      "source": [
        "d1=pd.read_csv('1.csv')\n",
        "d2=pd.read_csv('2.csv')\n",
        "d3=pd.read_csv('3.csv')\n",
        "d4=pd.read_csv('4.csv')\n",
        "d5=pd.read_csv('5.csv')"
      ],
      "execution_count": null,
      "outputs": []
    },
    {
      "cell_type": "code",
      "metadata": {
        "colab": {
          "base_uri": "https://localhost:8080/"
        },
        "id": "J8oUM0ELotgW",
        "outputId": "026948bd-0d6e-4cc5-c3a1-e8934a1f74b8"
      },
      "source": [
        "print(len(d1))\n",
        "print(len(d2))\n",
        "print(len(d3))\n",
        "print(len(d4))\n",
        "print(len(d5))"
      ],
      "execution_count": null,
      "outputs": [
        {
          "output_type": "stream",
          "name": "stdout",
          "text": [
            "25\n",
            "25\n",
            "25\n",
            "25\n",
            "9\n"
          ]
        }
      ]
    },
    {
      "cell_type": "code",
      "metadata": {
        "colab": {
          "base_uri": "https://localhost:8080/"
        },
        "id": "_TGyELMaovMA",
        "outputId": "83e9599b-31f1-4ac4-b4fd-cd564b6651d2"
      },
      "source": [
        "data=pd.concat([d1,d2,d3,d4,d5])\n",
        "data\n",
        "print(len(data))"
      ],
      "execution_count": null,
      "outputs": [
        {
          "output_type": "stream",
          "name": "stdout",
          "text": [
            "109\n"
          ]
        }
      ]
    },
    {
      "cell_type": "code",
      "metadata": {
        "id": "__Wmfx8fpLa9"
      },
      "source": [
        "data.to_csv('data_Hotels.csv',encoding=\"utf-8-sig\",index=False)"
      ],
      "execution_count": null,
      "outputs": []
    },
    {
      "cell_type": "code",
      "metadata": {
        "id": "8qNnGfrEpZkz"
      },
      "source": [
        "d9=pd.read_csv('9.csv')\n",
        "data1=pd.concat([data,d9])\n",
        "data1\n",
        "#print(len(data1))"
      ],
      "execution_count": null,
      "outputs": []
    }
  ]
}